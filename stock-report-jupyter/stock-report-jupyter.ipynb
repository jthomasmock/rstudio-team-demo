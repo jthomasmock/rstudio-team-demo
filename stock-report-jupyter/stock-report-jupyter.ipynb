{
 "cells": [
  {
   "cell_type": "markdown",
   "metadata": {},
   "source": [
    "# Stock Report: TSLA"
   ]
  },
  {
   "cell_type": "markdown",
   "metadata": {},
   "source": [
    "## Summary\n",
    "\n",
    "\n",
    "<p style=\"margin:2rem;padding:2rem;border:2px solid #c88;background-color:#fafae9\">\n",
    "    <strong>NOTE:</strong> This example requires <code>quandl-wiki-tsla.json.gz</code> to be included as an <q>Additional File</q> when publishing to RStudio Connect as a notebook with source code.\n",
    "</p>"
   ]
  },
  {
   "cell_type": "code",
   "execution_count": 3,
   "metadata": {},
   "outputs": [
    {
     "data": {
      "text/html": "<div>\n<style scoped>\n    .dataframe tbody tr th:only-of-type {\n        vertical-align: middle;\n    }\n\n    .dataframe tbody tr th {\n        vertical-align: top;\n    }\n\n    .dataframe thead th {\n        text-align: right;\n    }\n</style>\n<table border=\"1\" class=\"dataframe\">\n  <thead>\n    <tr style=\"text-align: right;\">\n      <th></th>\n      <th>High</th>\n      <th>Low</th>\n      <th>Avg Volume</th>\n    </tr>\n  </thead>\n  <tbody>\n    <tr>\n      <th>Most Recent Trading Day</th>\n      <td>304.27</td>\n      <td>277.18</td>\n      <td>13696168.0</td>\n    </tr>\n    <tr>\n      <th>52-Week/Full year</th>\n      <td>389.61</td>\n      <td>275.54</td>\n      <td>6407795.0</td>\n    </tr>\n  </tbody>\n</table>\n</div>",
      "text/plain": "                           High     Low  Avg Volume\nMost Recent Trading Day  304.27  277.18  13696168.0\n52-Week/Full year        389.61  275.54   6407795.0"
     },
     "execution_count": 3,
     "metadata": {},
     "output_type": "execute_result"
    }
   ],
   "source": [
    "import datetime\n",
    "import gzip\n",
    "\n",
    "import pandas as pd\n",
    "import matplotlib.pyplot as plt\n",
    "\n",
    "%matplotlib inline\n",
    "\n",
    "prices = pd.read_json(gzip.open('quandl-wiki-tsla.json.gz'), orient='split')\n",
    "\n",
    "data=[\n",
    "    [\n",
    "        prices.last('1d')['High'].values[0],\n",
    "        prices.last('1d')['Low'].values[0],\n",
    "        prices.last('1d')['Volume'].values[0].round(),\n",
    "    ],\n",
    "    [\n",
    "        prices.asfreq('D').rolling(window=52*7, min_periods=1).max().last('1d')['High'].values[0],\n",
    "        prices.asfreq('D').rolling(window=52*7, min_periods=1).min().last('1d')['Low'].values[0],\n",
    "        prices.asfreq('D').rolling(window=52*7, min_periods=1).mean().last('1d')['Volume'].values[0].round(),\n",
    "    ]\n",
    "]\n",
    "\n",
    "pd.DataFrame(data, columns=['High', 'Low', 'Avg Volume'], index=['Most Recent Trading Day', '52-Week/Full year'])"
   ]
  },
  {
   "cell_type": "markdown",
   "metadata": {},
   "source": [
    "## History"
   ]
  },
  {
   "cell_type": "code",
   "execution_count": null,
   "metadata": {},
   "outputs": [],
   "source": [
    "plt.rcParams['figure.figsize'] = [15, 10]\n",
    "prices['Adj. Close'].plot(grid=True)"
   ]
  },
  {
   "cell_type": "markdown",
   "metadata": {},
   "source": [
    "## Raw Data"
   ]
  },
  {
   "cell_type": "code",
   "execution_count": null,
   "metadata": {},
   "outputs": [],
   "source": [
    "prices"
   ]
  },
  {
   "cell_type": "markdown",
   "metadata": {},
   "source": [
    "<p style=\"margin:2rem;padding:2rem;border:2px solid #c88;background-color:#fafae9\">\n",
    "    <strong>NOTE:</strong> This report uses Quandl's WIKI price dataset for US publicly traded companies. As of April 11, 2018 this data feed is no longer actively supported by Quandl.\n",
    "</p>"
   ]
  }
 ],
 "metadata": {
  "kernelspec": {
   "display_name": "Python 3.7.5",
   "language": "python",
   "name": "py3.7.5"
  },
  "language_info": {
   "codemirror_mode": {
    "name": "ipython",
    "version": 3
   },
   "file_extension": ".py",
   "mimetype": "text/x-python",
   "name": "python",
   "nbconvert_exporter": "python",
   "pygments_lexer": "ipython3",
   "version": "3.7.5"
  }
 },
 "nbformat": 4,
 "nbformat_minor": 4
}