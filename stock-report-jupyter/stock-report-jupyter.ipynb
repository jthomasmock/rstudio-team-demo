{
 "cells": [
  {
   "cell_type": "markdown",
   "metadata": {},
   "source": [
    "# Stock Report: TSLA"
   ]
  },
  {
   "cell_type": "markdown",
   "metadata": {},
   "source": [
    "## Summary\n",
    "\n",
    "\n",
    "<p style=\"margin:2rem;padding:2rem;border:2px solid #c88;background-color:#fafae9\">\n",
    "    <strong>NOTE:</strong> This example requires <code>quandl-wiki-tsla.json.gz</code> to be included as an <q>Additional File</q> when publishing to RStudio Connect as a notebook with source code.\n",
    "</p>"
   ]
  },
  {
   "cell_type": "code",
   "execution_count": null,
   "metadata": {},
   "outputs": [],
   "source": [
    "import datetime\n",
    "import gzip\n",
    "\n",
    "import pandas as pd\n",
    "import matplotlib.pyplot as plt\n",
    "\n",
    "%matplotlib inline\n",
    "\n",
    "prices = pd.read_json(gzip.open('quandl-wiki-tsla.json.gz'), orient='split')\n",
    "\n",
    "data=[\n",
    "    [\n",
    "        prices.last('1d')['High'].values[0],\n",
    "        prices.last('1d')['Low'].values[0],\n",
    "        prices.last('1d')['Volume'].values[0].round(),\n",
    "    ],\n",
    "    [\n",
    "        prices.asfreq('D').rolling(window=52*7, min_periods=1).max().last('1d')['High'].values[0],\n",
    "        prices.asfreq('D').rolling(window=52*7, min_periods=1).min().last('1d')['Low'].values[0],\n",
    "        prices.asfreq('D').rolling(window=52*7, min_periods=1).mean().last('1d')['Volume'].values[0].round(),\n",
    "    ]\n",
    "]\n",
    "\n",
    "pd.DataFrame(data, columns=['High', 'Low', 'Avg Volume'], index=['Most Recent Trading Day', '52-Week/365 day/Full year'])"
   ]
  },
  {
   "cell_type": "markdown",
   "metadata": {},
   "source": [
    "## History"
   ]
  },
  {
   "cell_type": "code",
   "execution_count": null,
   "metadata": {},
   "outputs": [],
   "source": [
    "plt.rcParams['figure.figsize'] = [15, 10]\n",
    "prices['Adj. Close'].plot(grid=True)"
   ]
  },
  {
   "cell_type": "markdown",
   "metadata": {},
   "source": [
    "## Raw Data"
   ]
  },
  {
   "cell_type": "code",
   "execution_count": null,
   "metadata": {},
   "outputs": [],
   "source": [
    "prices"
   ]
  },
  {
   "cell_type": "markdown",
   "metadata": {},
   "source": [
    "<p style=\"margin:2rem;padding:2rem;border:2px solid #c88;background-color:#fafae9\">\n",
    "    <strong>NOTE:</strong> This report uses Quandl's WIKI price dataset for US publicly traded companies. As of April 11, 2018 this data feed is no longer actively supported by Quandl.\n",
    "</p>"
   ]
  },
  {
   "cell_type": "markdown",
   "metadata": {},
   "source": [
    "### Check the range manually"
   ]
  },
  {
   "cell_type": "code",
   "execution_count": null,
   "metadata": {},
   "outputs": [],
   "source": [
    "# magical code will go here"
   ]
  }
 ],
 "metadata": {
  "kernelspec": {
   "display_name": "Python 3.7.5",
   "language": "python",
   "name": "py3.7.5"
  },
  "language_info": {
   "codemirror_mode": {
    "name": "ipython",
    "version": 3
   },
   "file_extension": ".py",
   "mimetype": "text/x-python",
   "name": "python",
   "nbconvert_exporter": "python",
   "pygments_lexer": "ipython3",
   "version": "3.7.5"
  }
 },
 "nbformat": 4,
 "nbformat_minor": 4
}